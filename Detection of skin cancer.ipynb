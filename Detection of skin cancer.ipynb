{
 "cells": [
  {
   "cell_type": "markdown",
   "id": "9b2513fc",
   "metadata": {},
   "source": [
    "# Import the Libraries"
   ]
  },
  {
   "cell_type": "code",
   "execution_count": 1,
   "id": "b55ac64b",
   "metadata": {},
   "outputs": [],
   "source": [
    "import numpy as np\n",
    "import tensorflow as tf\n",
    "from keras.preprocessing.image import ImageDataGenerator"
   ]
  },
  {
   "cell_type": "code",
   "execution_count": 2,
   "id": "481f3230",
   "metadata": {},
   "outputs": [
    {
     "data": {
      "text/plain": [
       "'2.7.0'"
      ]
     },
     "execution_count": 2,
     "metadata": {},
     "output_type": "execute_result"
    }
   ],
   "source": [
    "tf.__version__"
   ]
  },
  {
   "cell_type": "markdown",
   "id": "a8daf2b0",
   "metadata": {},
   "source": [
    "# Image Preprocessing"
   ]
  },
  {
   "cell_type": "markdown",
   "id": "318e4cc3",
   "metadata": {},
   "source": [
    "## Preprocessing the training images"
   ]
  },
  {
   "cell_type": "code",
   "execution_count": 3,
   "id": "a736f925",
   "metadata": {},
   "outputs": [
    {
     "name": "stdout",
     "output_type": "stream",
     "text": [
      "Found 2637 images belonging to 2 classes.\n"
     ]
    }
   ],
   "source": [
    "train_datagen = ImageDataGenerator(\n",
    "        rescale=1./255,\n",
    "        shear_range=0.2,\n",
    "        zoom_range=0.2,\n",
    "        horizontal_flip=True)\n",
    "train_set = train_datagen.flow_from_directory(\n",
    "        'C:/Mukund/Datasets/train_set',\n",
    "        target_size=(64, 64),\n",
    "        batch_size=32,\n",
    "        class_mode='binary')"
   ]
  },
  {
   "cell_type": "markdown",
   "id": "5bfa4676",
   "metadata": {},
   "source": [
    "## Preprocessing the test images"
   ]
  },
  {
   "cell_type": "code",
   "execution_count": 4,
   "id": "368dc785",
   "metadata": {},
   "outputs": [
    {
     "name": "stdout",
     "output_type": "stream",
     "text": [
      "Found 660 images belonging to 2 classes.\n"
     ]
    }
   ],
   "source": [
    "test_datagen = ImageDataGenerator(rescale=1./255)\n",
    "test_set = test_datagen.flow_from_directory(\n",
    "        'C:/Mukund/Datasets/test_set',\n",
    "        target_size=(64, 64),\n",
    "        batch_size=32,\n",
    "        class_mode='binary')"
   ]
  },
  {
   "cell_type": "markdown",
   "id": "6f7312e1",
   "metadata": {},
   "source": [
    "# Building the CNN"
   ]
  },
  {
   "cell_type": "markdown",
   "id": "f10c1de0",
   "metadata": {},
   "source": [
    "## Initializing the CNN "
   ]
  },
  {
   "cell_type": "code",
   "execution_count": 5,
   "id": "29995a93",
   "metadata": {},
   "outputs": [],
   "source": [
    "cnn = tf.keras.models.Sequential()"
   ]
  },
  {
   "cell_type": "markdown",
   "id": "5519e85c",
   "metadata": {},
   "source": [
    "## Adding a convolution layer"
   ]
  },
  {
   "cell_type": "code",
   "execution_count": 6,
   "id": "a927fc67",
   "metadata": {},
   "outputs": [],
   "source": [
    "cnn.add(tf.keras.layers.Conv2D(filters=32,kernel_size=3,activation='relu',input_shape=[64,64,3]))"
   ]
  },
  {
   "cell_type": "markdown",
   "id": "9f7d6598",
   "metadata": {},
   "source": [
    "## Pooling"
   ]
  },
  {
   "cell_type": "code",
   "execution_count": 7,
   "id": "de440823",
   "metadata": {},
   "outputs": [],
   "source": [
    "cnn.add(tf.keras.layers.MaxPool2D(pool_size=2,strides=2))"
   ]
  },
  {
   "cell_type": "markdown",
   "id": "a1d49748",
   "metadata": {},
   "source": [
    "## Adding a second convolution layer"
   ]
  },
  {
   "cell_type": "code",
   "execution_count": 8,
   "id": "6bd8735f",
   "metadata": {},
   "outputs": [],
   "source": [
    "cnn.add(tf.keras.layers.Conv2D(filters=32,kernel_size=3,activation='relu',input_shape=[64,64,3]))"
   ]
  },
  {
   "cell_type": "markdown",
   "id": "63a9629f",
   "metadata": {},
   "source": [
    "## Pooling"
   ]
  },
  {
   "cell_type": "code",
   "execution_count": 9,
   "id": "be4a1c38",
   "metadata": {},
   "outputs": [],
   "source": [
    "cnn.add(tf.keras.layers.MaxPool2D(pool_size=2,strides=2))"
   ]
  },
  {
   "cell_type": "markdown",
   "id": "29da6b76",
   "metadata": {},
   "source": [
    "## Flatten"
   ]
  },
  {
   "cell_type": "code",
   "execution_count": 10,
   "id": "5ec5c50b",
   "metadata": {},
   "outputs": [],
   "source": [
    "cnn.add(tf.keras.layers.Flatten())"
   ]
  },
  {
   "cell_type": "markdown",
   "id": "25f339a1",
   "metadata": {},
   "source": [
    "## Full connection"
   ]
  },
  {
   "cell_type": "code",
   "execution_count": 11,
   "id": "1bcaade0",
   "metadata": {},
   "outputs": [],
   "source": [
    "cnn.add(tf.keras.layers.Dense(units=128,activation='relu'))"
   ]
  },
  {
   "cell_type": "markdown",
   "id": "3cd6c46c",
   "metadata": {},
   "source": [
    "## Adding the output layer"
   ]
  },
  {
   "cell_type": "code",
   "execution_count": 12,
   "id": "d61ba3c0",
   "metadata": {},
   "outputs": [],
   "source": [
    "cnn.add(tf.keras.layers.Dense(units=1,activation='sigmoid'))"
   ]
  },
  {
   "cell_type": "markdown",
   "id": "f539b276",
   "metadata": {},
   "source": [
    "# Training the CNN"
   ]
  },
  {
   "cell_type": "markdown",
   "id": "5cbaa9b0",
   "metadata": {},
   "source": [
    "## Compiling CNN"
   ]
  },
  {
   "cell_type": "code",
   "execution_count": 13,
   "id": "2694f56e",
   "metadata": {},
   "outputs": [],
   "source": [
    "cnn.compile(optimizer='adam',loss='binary_crossentropy',metrics=['accuracy'])"
   ]
  },
  {
   "cell_type": "markdown",
   "id": "31d273a9",
   "metadata": {},
   "source": [
    "## Training the CNN on the train set and evaluating it on the test set"
   ]
  },
  {
   "cell_type": "code",
   "execution_count": 14,
   "id": "b0775fe5",
   "metadata": {
    "scrolled": true
   },
   "outputs": [
    {
     "name": "stdout",
     "output_type": "stream",
     "text": [
      "Epoch 1/19\n",
      "83/83 [==============================] - 23s 266ms/step - loss: 0.6061 - accuracy: 0.6583 - val_loss: 0.5200 - val_accuracy: 0.7318\n",
      "Epoch 2/19\n",
      "83/83 [==============================] - 21s 255ms/step - loss: 0.5049 - accuracy: 0.7410 - val_loss: 0.4227 - val_accuracy: 0.7742\n",
      "Epoch 3/19\n",
      "83/83 [==============================] - 20s 242ms/step - loss: 0.4507 - accuracy: 0.7615 - val_loss: 0.4196 - val_accuracy: 0.7545\n",
      "Epoch 4/19\n",
      "83/83 [==============================] - 20s 241ms/step - loss: 0.4022 - accuracy: 0.7895 - val_loss: 0.4618 - val_accuracy: 0.7636\n",
      "Epoch 5/19\n",
      "83/83 [==============================] - 21s 252ms/step - loss: 0.4314 - accuracy: 0.7797 - val_loss: 0.3860 - val_accuracy: 0.8273\n",
      "Epoch 6/19\n",
      "83/83 [==============================] - 20s 246ms/step - loss: 0.3788 - accuracy: 0.8024 - val_loss: 0.3851 - val_accuracy: 0.8152\n",
      "Epoch 7/19\n",
      "83/83 [==============================] - 20s 242ms/step - loss: 0.3796 - accuracy: 0.8096 - val_loss: 0.3674 - val_accuracy: 0.8530\n",
      "Epoch 8/19\n",
      "83/83 [==============================] - 21s 249ms/step - loss: 0.3658 - accuracy: 0.8161 - val_loss: 0.3466 - val_accuracy: 0.8379\n",
      "Epoch 9/19\n",
      "83/83 [==============================] - 21s 256ms/step - loss: 0.3603 - accuracy: 0.8237 - val_loss: 0.3604 - val_accuracy: 0.8439\n",
      "Epoch 10/19\n",
      "83/83 [==============================] - 22s 261ms/step - loss: 0.3638 - accuracy: 0.8161 - val_loss: 0.3605 - val_accuracy: 0.8121\n",
      "Epoch 11/19\n",
      "83/83 [==============================] - 22s 268ms/step - loss: 0.3615 - accuracy: 0.8233 - val_loss: 0.3433 - val_accuracy: 0.8076\n",
      "Epoch 12/19\n",
      "83/83 [==============================] - 21s 258ms/step - loss: 0.3462 - accuracy: 0.8271 - val_loss: 0.3320 - val_accuracy: 0.8409\n",
      "Epoch 13/19\n",
      "83/83 [==============================] - 20s 245ms/step - loss: 0.3320 - accuracy: 0.8320 - val_loss: 0.3377 - val_accuracy: 0.8485\n",
      "Epoch 14/19\n",
      "83/83 [==============================] - 22s 264ms/step - loss: 0.3515 - accuracy: 0.8286 - val_loss: 0.3338 - val_accuracy: 0.8394\n",
      "Epoch 15/19\n",
      "83/83 [==============================] - 21s 252ms/step - loss: 0.3357 - accuracy: 0.8320 - val_loss: 0.3480 - val_accuracy: 0.8364\n",
      "Epoch 16/19\n",
      "83/83 [==============================] - 20s 244ms/step - loss: 0.3449 - accuracy: 0.8225 - val_loss: 0.3494 - val_accuracy: 0.8409\n",
      "Epoch 17/19\n",
      "83/83 [==============================] - 21s 254ms/step - loss: 0.3377 - accuracy: 0.8358 - val_loss: 0.3215 - val_accuracy: 0.8515\n",
      "Epoch 18/19\n",
      "83/83 [==============================] - 21s 254ms/step - loss: 0.3236 - accuracy: 0.8381 - val_loss: 0.3476 - val_accuracy: 0.8227\n",
      "Epoch 19/19\n",
      "83/83 [==============================] - 21s 251ms/step - loss: 0.3232 - accuracy: 0.8354 - val_loss: 0.3304 - val_accuracy: 0.8318\n"
     ]
    }
   ],
   "source": [
    "model = cnn.fit(x=train_set,validation_data=test_set,epochs=19)"
   ]
  },
  {
   "cell_type": "markdown",
   "id": "052ee1fb",
   "metadata": {},
   "source": [
    "## Plotting accuracy and loss of train set and test set"
   ]
  },
  {
   "cell_type": "code",
   "execution_count": 15,
   "id": "7ec5ba17",
   "metadata": {},
   "outputs": [],
   "source": [
    "import matplotlib.pyplot as plt"
   ]
  },
  {
   "cell_type": "code",
   "execution_count": 16,
   "id": "987b41e9",
   "metadata": {},
   "outputs": [
    {
     "data": {
      "image/png": "[encoded data removed]",
      "text/plain": [
       "<Figure size 432x288 with 1 Axes>"
      ]
     },
     "metadata": {
      "needs_background": "light"
     },
     "output_type": "display_data"
    }
   ],
   "source": [
    "plt.plot(model.history['accuracy'])\n",
    "plt.plot(model.history['val_accuracy'])\n",
    "plt.title('model accuracy')\n",
    "plt.ylabel('accuracy')\n",
    "plt.xlabel('epoch')\n",
    "plt.legend(['train', 'test'], loc='upper left')\n",
    "plt.show()"
   ]
  },
  {
   "cell_type": "code",
   "execution_count": 17,
   "id": "c1ab2320",
   "metadata": {},
   "outputs": [
    {
     "data": {
      "image/png": "[encoded data removed]",
      "text/plain": [
       "<Figure size 432x288 with 1 Axes>"
      ]
     },
     "metadata": {
      "needs_background": "light"
     },
     "output_type": "display_data"
    }
   ],
   "source": [
    "plt.plot(model.history['loss'])\n",
    "plt.plot(model.history['val_loss'])\n",
    "plt.title('model loss')\n",
    "plt.ylabel('loss')\n",
    "plt.xlabel('epoch')\n",
    "plt.legend(['train', 'test'], loc='upper left')\n",
    "plt.show()"
   ]
  }
 ],
 "metadata": {
  "kernelspec": {
   "display_name": "Python 3",
   "language": "python",
   "name": "python3"
  },
  "language_info": {
   "codemirror_mode": {
    "name": "ipython",
    "version": 3
   },
   "file_extension": ".py",
   "mimetype": "text/x-python",
   "name": "python",
   "nbconvert_exporter": "python",
   "pygments_lexer": "ipython3",
   "version": "3.8.8"
  }
 },
 "nbformat": 4,
 "nbformat_minor": 5
}
